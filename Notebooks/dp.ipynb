{
 "cells": [
  {
   "cell_type": "code",
   "execution_count": 8,
   "metadata": {},
   "outputs": [],
   "source": [
    "import pandas as pd\n",
    "import numpy as np\n",
    "from tqdm import tqdm\n",
    "\n",
    "import tensorflow as tf\n",
    "from tensorflow import keras\n",
    "from tensorflow.keras.models import Sequential\n",
    "from tensorflow.keras.layers import Dense, Dropout, LSTM, Embedding, Dropout, TimeDistributed, Activation\n",
    "from tensorflow.keras.layers import Conv2D, MaxPooling2D, Flatten\n",
    "from tensorflow.keras.callbacks import ModelCheckpoint\n",
    "from keras.callbacks import ModelCheckpoint, Callback\n",
    "\n",
    "import pickle\n",
    "import matplotlib.pyplot as plt\n",
    "import random\n",
    "from sklearn.cluster import KMeans"
   ]
  },
  {
   "cell_type": "code",
   "execution_count": 9,
   "metadata": {},
   "outputs": [],
   "source": [
    "def unpickle(file):\n",
    "    with open(file, 'rb') as fo:\n",
    "        dict = pickle.load(fo, encoding='bytes')\n",
    "    return dict"
   ]
  },
  {
   "cell_type": "code",
   "execution_count": 10,
   "metadata": {},
   "outputs": [],
   "source": [
    "def get_image(image_data):\n",
    "    split_color = 1024\n",
    "    colors = {}\n",
    "    # get red (0), green (1), blue (2) and create three 1024 arrays\n",
    "    for i in range(0, 3):\n",
    "        colors[i] = image_data[i*split_color:(i+1)*split_color]\n",
    "\n",
    "    # convert each of the rgb vectors into a 1024x3 array \n",
    "    rgb_list = []\n",
    "    for i in range(0, split_color):\n",
    "        rgb_temp = []\n",
    "        for k in range(0, 3):\n",
    "            rgb_temp.append(colors[k][i])\n",
    "        rgb_list.append(rgb_temp)\n",
    "\n",
    "    # convert the rgb pixels into a 32x32x3 array\n",
    "    image_list = []\n",
    "    for i in range(0, 32):\n",
    "        image_list.append(rgb_list[i*32: (i+1)*32])\n",
    "    return image_list"
   ]
  },
  {
   "cell_type": "markdown",
   "metadata": {},
   "source": [
    "# Extract Train and Test Batches"
   ]
  },
  {
   "cell_type": "code",
   "execution_count": 11,
   "metadata": {},
   "outputs": [],
   "source": [
    "train_data_dict = {}\n",
    "train_label_dict = {}\n",
    "path = '../Data/images/'\n",
    "for i in range(1, 6):\n",
    "    file_name = 'data_batch_' + str(i)\n",
    "    batch = unpickle(path + file_name)\n",
    "    train_data_dict[file_name] = batch[b'data']\n",
    "    train_label_dict[file_name] = batch[b'labels']"
   ]
  },
  {
   "cell_type": "code",
   "execution_count": 12,
   "metadata": {},
   "outputs": [],
   "source": [
    "batch = unpickle(path + 'test_batch')\n",
    "test_data = batch[b'data']\n",
    "test_label = batch[b'labels']"
   ]
  },
  {
   "cell_type": "markdown",
   "metadata": {},
   "source": [
    "We want to limit our training experimentation to just batch 1 to begin."
   ]
  },
  {
   "cell_type": "code",
   "execution_count": 13,
   "metadata": {},
   "outputs": [],
   "source": [
    "batch1_raw = train_data_dict['data_batch_1']"
   ]
  },
  {
   "cell_type": "markdown",
   "metadata": {},
   "source": [
    "# Convert to RGB (32x32x3)"
   ]
  },
  {
   "cell_type": "code",
   "execution_count": 14,
   "metadata": {},
   "outputs": [
    {
     "name": "stderr",
     "output_type": "stream",
     "text": [
      "100%|██████████| 10000/10000 [00:06<00:00, 1436.41it/s]\n",
      "100%|██████████| 10000/10000 [00:06<00:00, 1445.04it/s]\n"
     ]
    }
   ],
   "source": [
    "# convert our image into a 32x32x3 RGB image\n",
    "train_images = []\n",
    "for image in tqdm(batch1_raw):\n",
    "    train_images.append(np.array(get_image(image)))\n",
    "\n",
    "test_images = []\n",
    "for image in tqdm(test_data):\n",
    "    test_images.append(np.array(get_image(image)))"
   ]
  },
  {
   "cell_type": "code",
   "execution_count": 15,
   "metadata": {},
   "outputs": [
    {
     "data": {
      "image/png": "[encoded data removed]",
      "text/plain": [
       "<Figure size 720x360 with 2 Axes>"
      ]
     },
     "metadata": {
      "needs_background": "light"
     },
     "output_type": "display_data"
    }
   ],
   "source": [
    "f, ax = plt.subplots(1,2, figsize=(10,5))\n",
    "\n",
    "ax[0].imshow(train_images[0], interpolation='nearest', cmap='gray')\n",
    "ax[0].title.set_text('Train Image')\n",
    "\n",
    "ax[1].imshow(test_images[0], interpolation='nearest', cmap='gray')\n",
    "ax[1].title.set_text('Test Image')"
   ]
  },
  {
   "cell_type": "markdown",
   "metadata": {},
   "source": [
    "# Obtain Centroid RGB Pixels (using KMeans)"
   ]
  },
  {
   "cell_type": "markdown",
   "metadata": {},
   "source": [
    "### Process Sample"
   ]
  },
  {
   "cell_type": "code",
   "execution_count": 25,
   "metadata": {},
   "outputs": [
    {
     "name": "stderr",
     "output_type": "stream",
     "text": [
      "100%|██████████| 10000/10000 [00:06<00:00, 1603.14it/s]\n"
     ]
    }
   ],
   "source": [
    "pixels_all = []\n",
    "\n",
    "for l in tqdm(range(0, len(train_images))):\n",
    "    for i in range(0,32):\n",
    "        for k in range(0,32):\n",
    "            pixels_all.append(tuple(all_images[l][i][k]))"
   ]
  },
  {
   "cell_type": "code",
   "execution_count": 26,
   "metadata": {},
   "outputs": [],
   "source": [
    "pixels_all = set(pixels_all)\n",
    "pixels_all = [list(x) for x in pixels_all]"
   ]
  },
  {
   "cell_type": "code",
   "execution_count": 27,
   "metadata": {},
   "outputs": [],
   "source": [
    "# sample pixels\n",
    "len_pixels = len(pixels_all)\n",
    "len_pixels_sample = int(len_pixels*.3)\n",
    "\n",
    "sel_indices = random.sample(range(0, len_pixels), len_pixels_sample)\n",
    "pixels_sample = [pixels_all[x] for x in sel_indices]"
   ]
  },
  {
   "cell_type": "markdown",
   "metadata": {},
   "source": [
    "### Run KMeans"
   ]
  },
  {
   "cell_type": "code",
   "execution_count": 28,
   "metadata": {},
   "outputs": [],
   "source": [
    "k = 20"
   ]
  },
  {
   "cell_type": "code",
   "execution_count": 29,
   "metadata": {},
   "outputs": [
    {
     "data": {
      "text/plain": [
       "KMeans(n_clusters=20)"
      ]
     },
     "execution_count": 29,
     "metadata": {},
     "output_type": "execute_result"
    }
   ],
   "source": [
    "kmeans = KMeans(n_clusters=k)\n",
    "kmeans.fit(pixels_sample)"
   ]
  },
  {
   "cell_type": "code",
   "execution_count": 31,
   "metadata": {},
   "outputs": [],
   "source": [
    "# map the centroid pixels\n",
    "centers_dict = {}\n",
    "for i in range(0,k):\n",
    "    centers_dict[i] = [int(np.round(x)) for x in kmeans.cluster_centers_[i]]"
   ]
  },
  {
   "cell_type": "code",
   "execution_count": null,
   "metadata": {},
   "outputs": [],
   "source": []
  }
 ],
 "metadata": {
  "interpreter": {
   "hash": "f3e550d21b6d1446df758038c8a615b11162c188d546e41d87af3b75182850ce"
  },
  "kernelspec": {
   "display_name": "Python 3.9.7 ('base')",
   "language": "python",
   "name": "python3"
  },
  "language_info": {
   "codemirror_mode": {
    "name": "ipython",
    "version": 3
   },
   "file_extension": ".py",
   "mimetype": "text/x-python",
   "name": "python",
   "nbconvert_exporter": "python",
   "pygments_lexer": "ipython3",
   "version": "3.9.7"
  },
  "orig_nbformat": 4
 },
 "nbformat": 4,
 "nbformat_minor": 2
}
